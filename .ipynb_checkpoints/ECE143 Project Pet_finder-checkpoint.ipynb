{
 "cells": [
  {
   "cell_type": "markdown",
   "metadata": {},
   "source": [
    "# ECE 143: Programming for Data Analysis \n",
    "\n",
    "## Petfinder.my Adoption Prediction \n",
    "*Predicting the adoptability of pets based on different features*\n"
   ]
  },
  {
   "cell_type": "code",
   "execution_count": 1,
   "metadata": {},
   "outputs": [],
   "source": [
    "import pandas as pd\n",
    "import numpy as np\n",
    "import zipfile\n",
    "import os.path\n",
    "from os import path\n",
    "import matplotlib.pyplot as plt"
   ]
  },
  {
   "cell_type": "code",
   "execution_count": 2,
   "metadata": {},
   "outputs": [],
   "source": [
    "# Load the data \n",
    "\n",
    "breed_labels = pd.read_csv(\"../data/breed_labels.csv\")\n",
    "color_labels = pd.read_csv(\"../data/color_labels.csv\")\n",
    "state_labels = pd.read_csv(\"../data/state_labels.csv\")\n",
    "\n",
    "# Check if file already exists\n",
    "if not path.exists('../data/train.csv'):\n",
    "    train_zip = zipfile.ZipFile('../data/train.zip')\n",
    "    train_zip.extractall('../data')\n",
    "    train_zip.close()\n",
    "\n",
    "train = pd.read_csv(\"../data/train.csv\")\n"
   ]
  },
  {
   "cell_type": "code",
   "execution_count": 3,
   "metadata": {
    "scrolled": true
   },
   "outputs": [
    {
     "data": {
      "text/html": [
       "<div>\n",
       "<style scoped>\n",
       "    .dataframe tbody tr th:only-of-type {\n",
       "        vertical-align: middle;\n",
       "    }\n",
       "\n",
       "    .dataframe tbody tr th {\n",
       "        vertical-align: top;\n",
       "    }\n",
       "\n",
       "    .dataframe thead th {\n",
       "        text-align: right;\n",
       "    }\n",
       "</style>\n",
       "<table border=\"1\" class=\"dataframe\">\n",
       "  <thead>\n",
       "    <tr style=\"text-align: right;\">\n",
       "      <th></th>\n",
       "      <th>Type</th>\n",
       "      <th>Name</th>\n",
       "      <th>Age</th>\n",
       "      <th>Breed1</th>\n",
       "      <th>Breed2</th>\n",
       "      <th>Gender</th>\n",
       "      <th>Color1</th>\n",
       "      <th>Color2</th>\n",
       "      <th>Color3</th>\n",
       "      <th>MaturitySize</th>\n",
       "      <th>...</th>\n",
       "      <th>Health</th>\n",
       "      <th>Quantity</th>\n",
       "      <th>Fee</th>\n",
       "      <th>State</th>\n",
       "      <th>RescuerID</th>\n",
       "      <th>VideoAmt</th>\n",
       "      <th>Description</th>\n",
       "      <th>PetID</th>\n",
       "      <th>PhotoAmt</th>\n",
       "      <th>AdoptionSpeed</th>\n",
       "    </tr>\n",
       "  </thead>\n",
       "  <tbody>\n",
       "    <tr>\n",
       "      <th>0</th>\n",
       "      <td>2</td>\n",
       "      <td>Nibble</td>\n",
       "      <td>3</td>\n",
       "      <td>299</td>\n",
       "      <td>0</td>\n",
       "      <td>1</td>\n",
       "      <td>1</td>\n",
       "      <td>7</td>\n",
       "      <td>0</td>\n",
       "      <td>1</td>\n",
       "      <td>...</td>\n",
       "      <td>1</td>\n",
       "      <td>1</td>\n",
       "      <td>100</td>\n",
       "      <td>41326</td>\n",
       "      <td>8480853f516546f6cf33aa88cd76c379</td>\n",
       "      <td>0</td>\n",
       "      <td>Nibble is a 3+ month old ball of cuteness. He ...</td>\n",
       "      <td>86e1089a3</td>\n",
       "      <td>1.0</td>\n",
       "      <td>2</td>\n",
       "    </tr>\n",
       "    <tr>\n",
       "      <th>1</th>\n",
       "      <td>2</td>\n",
       "      <td>No Name Yet</td>\n",
       "      <td>1</td>\n",
       "      <td>265</td>\n",
       "      <td>0</td>\n",
       "      <td>1</td>\n",
       "      <td>1</td>\n",
       "      <td>2</td>\n",
       "      <td>0</td>\n",
       "      <td>2</td>\n",
       "      <td>...</td>\n",
       "      <td>1</td>\n",
       "      <td>1</td>\n",
       "      <td>0</td>\n",
       "      <td>41401</td>\n",
       "      <td>3082c7125d8fb66f7dd4bff4192c8b14</td>\n",
       "      <td>0</td>\n",
       "      <td>I just found it alone yesterday near my apartm...</td>\n",
       "      <td>6296e909a</td>\n",
       "      <td>2.0</td>\n",
       "      <td>0</td>\n",
       "    </tr>\n",
       "    <tr>\n",
       "      <th>2</th>\n",
       "      <td>1</td>\n",
       "      <td>Brisco</td>\n",
       "      <td>1</td>\n",
       "      <td>307</td>\n",
       "      <td>0</td>\n",
       "      <td>1</td>\n",
       "      <td>2</td>\n",
       "      <td>7</td>\n",
       "      <td>0</td>\n",
       "      <td>2</td>\n",
       "      <td>...</td>\n",
       "      <td>1</td>\n",
       "      <td>1</td>\n",
       "      <td>0</td>\n",
       "      <td>41326</td>\n",
       "      <td>fa90fa5b1ee11c86938398b60abc32cb</td>\n",
       "      <td>0</td>\n",
       "      <td>Their pregnant mother was dumped by her irresp...</td>\n",
       "      <td>3422e4906</td>\n",
       "      <td>7.0</td>\n",
       "      <td>3</td>\n",
       "    </tr>\n",
       "    <tr>\n",
       "      <th>3</th>\n",
       "      <td>1</td>\n",
       "      <td>Miko</td>\n",
       "      <td>4</td>\n",
       "      <td>307</td>\n",
       "      <td>0</td>\n",
       "      <td>2</td>\n",
       "      <td>1</td>\n",
       "      <td>2</td>\n",
       "      <td>0</td>\n",
       "      <td>2</td>\n",
       "      <td>...</td>\n",
       "      <td>1</td>\n",
       "      <td>1</td>\n",
       "      <td>150</td>\n",
       "      <td>41401</td>\n",
       "      <td>9238e4f44c71a75282e62f7136c6b240</td>\n",
       "      <td>0</td>\n",
       "      <td>Good guard dog, very alert, active, obedience ...</td>\n",
       "      <td>5842f1ff5</td>\n",
       "      <td>8.0</td>\n",
       "      <td>2</td>\n",
       "    </tr>\n",
       "    <tr>\n",
       "      <th>4</th>\n",
       "      <td>1</td>\n",
       "      <td>Hunter</td>\n",
       "      <td>1</td>\n",
       "      <td>307</td>\n",
       "      <td>0</td>\n",
       "      <td>1</td>\n",
       "      <td>1</td>\n",
       "      <td>0</td>\n",
       "      <td>0</td>\n",
       "      <td>2</td>\n",
       "      <td>...</td>\n",
       "      <td>1</td>\n",
       "      <td>1</td>\n",
       "      <td>0</td>\n",
       "      <td>41326</td>\n",
       "      <td>95481e953f8aed9ec3d16fc4509537e8</td>\n",
       "      <td>0</td>\n",
       "      <td>This handsome yet cute boy is up for adoption....</td>\n",
       "      <td>850a43f90</td>\n",
       "      <td>3.0</td>\n",
       "      <td>2</td>\n",
       "    </tr>\n",
       "  </tbody>\n",
       "</table>\n",
       "<p>5 rows × 24 columns</p>\n",
       "</div>"
      ],
      "text/plain": [
       "   Type         Name  Age  Breed1  Breed2  Gender  Color1  Color2  Color3  \\\n",
       "0     2       Nibble    3     299       0       1       1       7       0   \n",
       "1     2  No Name Yet    1     265       0       1       1       2       0   \n",
       "2     1       Brisco    1     307       0       1       2       7       0   \n",
       "3     1         Miko    4     307       0       2       1       2       0   \n",
       "4     1       Hunter    1     307       0       1       1       0       0   \n",
       "\n",
       "   MaturitySize      ...        Health  Quantity  Fee  State  \\\n",
       "0             1      ...             1         1  100  41326   \n",
       "1             2      ...             1         1    0  41401   \n",
       "2             2      ...             1         1    0  41326   \n",
       "3             2      ...             1         1  150  41401   \n",
       "4             2      ...             1         1    0  41326   \n",
       "\n",
       "                          RescuerID  VideoAmt  \\\n",
       "0  8480853f516546f6cf33aa88cd76c379         0   \n",
       "1  3082c7125d8fb66f7dd4bff4192c8b14         0   \n",
       "2  fa90fa5b1ee11c86938398b60abc32cb         0   \n",
       "3  9238e4f44c71a75282e62f7136c6b240         0   \n",
       "4  95481e953f8aed9ec3d16fc4509537e8         0   \n",
       "\n",
       "                                         Description      PetID PhotoAmt  \\\n",
       "0  Nibble is a 3+ month old ball of cuteness. He ...  86e1089a3      1.0   \n",
       "1  I just found it alone yesterday near my apartm...  6296e909a      2.0   \n",
       "2  Their pregnant mother was dumped by her irresp...  3422e4906      7.0   \n",
       "3  Good guard dog, very alert, active, obedience ...  5842f1ff5      8.0   \n",
       "4  This handsome yet cute boy is up for adoption....  850a43f90      3.0   \n",
       "\n",
       "   AdoptionSpeed  \n",
       "0              2  \n",
       "1              0  \n",
       "2              3  \n",
       "3              2  \n",
       "4              2  \n",
       "\n",
       "[5 rows x 24 columns]"
      ]
     },
     "execution_count": 3,
     "metadata": {},
     "output_type": "execute_result"
    }
   ],
   "source": [
    "# Initial look at the data\n",
    "\n",
    "train.head()"
   ]
  },
  {
   "cell_type": "code",
   "execution_count": 4,
   "metadata": {
    "scrolled": true
   },
   "outputs": [
    {
     "name": "stdout",
     "output_type": "stream",
     "text": [
      "<class 'pandas.core.frame.DataFrame'>\n",
      "RangeIndex: 14993 entries, 0 to 14992\n",
      "Data columns (total 24 columns):\n",
      "Type             14993 non-null int64\n",
      "Name             13736 non-null object\n",
      "Age              14993 non-null int64\n",
      "Breed1           14993 non-null int64\n",
      "Breed2           14993 non-null int64\n",
      "Gender           14993 non-null int64\n",
      "Color1           14993 non-null int64\n",
      "Color2           14993 non-null int64\n",
      "Color3           14993 non-null int64\n",
      "MaturitySize     14993 non-null int64\n",
      "FurLength        14993 non-null int64\n",
      "Vaccinated       14993 non-null int64\n",
      "Dewormed         14993 non-null int64\n",
      "Sterilized       14993 non-null int64\n",
      "Health           14993 non-null int64\n",
      "Quantity         14993 non-null int64\n",
      "Fee              14993 non-null int64\n",
      "State            14993 non-null int64\n",
      "RescuerID        14993 non-null object\n",
      "VideoAmt         14993 non-null int64\n",
      "Description      14981 non-null object\n",
      "PetID            14993 non-null object\n",
      "PhotoAmt         14993 non-null float64\n",
      "AdoptionSpeed    14993 non-null int64\n",
      "dtypes: float64(1), int64(19), object(4)\n",
      "memory usage: 2.7+ MB\n"
     ]
    }
   ],
   "source": [
    "train.info()"
   ]
  },
  {
   "cell_type": "code",
   "execution_count": 5,
   "metadata": {
    "scrolled": true
   },
   "outputs": [
    {
     "data": {
      "text/html": [
       "<div>\n",
       "<style scoped>\n",
       "    .dataframe tbody tr th:only-of-type {\n",
       "        vertical-align: middle;\n",
       "    }\n",
       "\n",
       "    .dataframe tbody tr th {\n",
       "        vertical-align: top;\n",
       "    }\n",
       "\n",
       "    .dataframe thead th {\n",
       "        text-align: right;\n",
       "    }\n",
       "</style>\n",
       "<table border=\"1\" class=\"dataframe\">\n",
       "  <thead>\n",
       "    <tr style=\"text-align: right;\">\n",
       "      <th></th>\n",
       "      <th>Type</th>\n",
       "      <th>Age</th>\n",
       "      <th>Breed1</th>\n",
       "      <th>Breed2</th>\n",
       "      <th>Gender</th>\n",
       "      <th>Color1</th>\n",
       "      <th>Color2</th>\n",
       "      <th>Color3</th>\n",
       "      <th>MaturitySize</th>\n",
       "      <th>FurLength</th>\n",
       "      <th>Vaccinated</th>\n",
       "      <th>Dewormed</th>\n",
       "      <th>Sterilized</th>\n",
       "      <th>Health</th>\n",
       "      <th>Quantity</th>\n",
       "      <th>Fee</th>\n",
       "      <th>State</th>\n",
       "      <th>VideoAmt</th>\n",
       "      <th>PhotoAmt</th>\n",
       "      <th>AdoptionSpeed</th>\n",
       "    </tr>\n",
       "  </thead>\n",
       "  <tbody>\n",
       "    <tr>\n",
       "      <th>count</th>\n",
       "      <td>14993.000000</td>\n",
       "      <td>14993.000000</td>\n",
       "      <td>14993.000000</td>\n",
       "      <td>14993.000000</td>\n",
       "      <td>14993.000000</td>\n",
       "      <td>14993.000000</td>\n",
       "      <td>14993.000000</td>\n",
       "      <td>14993.000000</td>\n",
       "      <td>14993.000000</td>\n",
       "      <td>14993.000000</td>\n",
       "      <td>14993.000000</td>\n",
       "      <td>14993.000000</td>\n",
       "      <td>14993.000000</td>\n",
       "      <td>14993.000000</td>\n",
       "      <td>14993.000000</td>\n",
       "      <td>14993.000000</td>\n",
       "      <td>14993.000000</td>\n",
       "      <td>14993.000000</td>\n",
       "      <td>14993.000000</td>\n",
       "      <td>14993.000000</td>\n",
       "    </tr>\n",
       "    <tr>\n",
       "      <th>mean</th>\n",
       "      <td>1.457614</td>\n",
       "      <td>10.452078</td>\n",
       "      <td>265.272594</td>\n",
       "      <td>74.009738</td>\n",
       "      <td>1.776162</td>\n",
       "      <td>2.234176</td>\n",
       "      <td>3.222837</td>\n",
       "      <td>1.882012</td>\n",
       "      <td>1.862002</td>\n",
       "      <td>1.467485</td>\n",
       "      <td>1.731208</td>\n",
       "      <td>1.558727</td>\n",
       "      <td>1.914227</td>\n",
       "      <td>1.036617</td>\n",
       "      <td>1.576069</td>\n",
       "      <td>21.259988</td>\n",
       "      <td>41346.028347</td>\n",
       "      <td>0.056760</td>\n",
       "      <td>3.889215</td>\n",
       "      <td>2.516441</td>\n",
       "    </tr>\n",
       "    <tr>\n",
       "      <th>std</th>\n",
       "      <td>0.498217</td>\n",
       "      <td>18.155790</td>\n",
       "      <td>60.056818</td>\n",
       "      <td>123.011575</td>\n",
       "      <td>0.681592</td>\n",
       "      <td>1.745225</td>\n",
       "      <td>2.742562</td>\n",
       "      <td>2.984086</td>\n",
       "      <td>0.547959</td>\n",
       "      <td>0.599070</td>\n",
       "      <td>0.667649</td>\n",
       "      <td>0.695817</td>\n",
       "      <td>0.566172</td>\n",
       "      <td>0.199535</td>\n",
       "      <td>1.472477</td>\n",
       "      <td>78.414548</td>\n",
       "      <td>32.444153</td>\n",
       "      <td>0.346185</td>\n",
       "      <td>3.487810</td>\n",
       "      <td>1.177265</td>\n",
       "    </tr>\n",
       "    <tr>\n",
       "      <th>min</th>\n",
       "      <td>1.000000</td>\n",
       "      <td>0.000000</td>\n",
       "      <td>0.000000</td>\n",
       "      <td>0.000000</td>\n",
       "      <td>1.000000</td>\n",
       "      <td>1.000000</td>\n",
       "      <td>0.000000</td>\n",
       "      <td>0.000000</td>\n",
       "      <td>1.000000</td>\n",
       "      <td>1.000000</td>\n",
       "      <td>1.000000</td>\n",
       "      <td>1.000000</td>\n",
       "      <td>1.000000</td>\n",
       "      <td>1.000000</td>\n",
       "      <td>1.000000</td>\n",
       "      <td>0.000000</td>\n",
       "      <td>41324.000000</td>\n",
       "      <td>0.000000</td>\n",
       "      <td>0.000000</td>\n",
       "      <td>0.000000</td>\n",
       "    </tr>\n",
       "    <tr>\n",
       "      <th>25%</th>\n",
       "      <td>1.000000</td>\n",
       "      <td>2.000000</td>\n",
       "      <td>265.000000</td>\n",
       "      <td>0.000000</td>\n",
       "      <td>1.000000</td>\n",
       "      <td>1.000000</td>\n",
       "      <td>0.000000</td>\n",
       "      <td>0.000000</td>\n",
       "      <td>2.000000</td>\n",
       "      <td>1.000000</td>\n",
       "      <td>1.000000</td>\n",
       "      <td>1.000000</td>\n",
       "      <td>2.000000</td>\n",
       "      <td>1.000000</td>\n",
       "      <td>1.000000</td>\n",
       "      <td>0.000000</td>\n",
       "      <td>41326.000000</td>\n",
       "      <td>0.000000</td>\n",
       "      <td>2.000000</td>\n",
       "      <td>2.000000</td>\n",
       "    </tr>\n",
       "    <tr>\n",
       "      <th>50%</th>\n",
       "      <td>1.000000</td>\n",
       "      <td>3.000000</td>\n",
       "      <td>266.000000</td>\n",
       "      <td>0.000000</td>\n",
       "      <td>2.000000</td>\n",
       "      <td>2.000000</td>\n",
       "      <td>2.000000</td>\n",
       "      <td>0.000000</td>\n",
       "      <td>2.000000</td>\n",
       "      <td>1.000000</td>\n",
       "      <td>2.000000</td>\n",
       "      <td>1.000000</td>\n",
       "      <td>2.000000</td>\n",
       "      <td>1.000000</td>\n",
       "      <td>1.000000</td>\n",
       "      <td>0.000000</td>\n",
       "      <td>41326.000000</td>\n",
       "      <td>0.000000</td>\n",
       "      <td>3.000000</td>\n",
       "      <td>2.000000</td>\n",
       "    </tr>\n",
       "    <tr>\n",
       "      <th>75%</th>\n",
       "      <td>2.000000</td>\n",
       "      <td>12.000000</td>\n",
       "      <td>307.000000</td>\n",
       "      <td>179.000000</td>\n",
       "      <td>2.000000</td>\n",
       "      <td>3.000000</td>\n",
       "      <td>6.000000</td>\n",
       "      <td>5.000000</td>\n",
       "      <td>2.000000</td>\n",
       "      <td>2.000000</td>\n",
       "      <td>2.000000</td>\n",
       "      <td>2.000000</td>\n",
       "      <td>2.000000</td>\n",
       "      <td>1.000000</td>\n",
       "      <td>1.000000</td>\n",
       "      <td>0.000000</td>\n",
       "      <td>41401.000000</td>\n",
       "      <td>0.000000</td>\n",
       "      <td>5.000000</td>\n",
       "      <td>4.000000</td>\n",
       "    </tr>\n",
       "    <tr>\n",
       "      <th>max</th>\n",
       "      <td>2.000000</td>\n",
       "      <td>255.000000</td>\n",
       "      <td>307.000000</td>\n",
       "      <td>307.000000</td>\n",
       "      <td>3.000000</td>\n",
       "      <td>7.000000</td>\n",
       "      <td>7.000000</td>\n",
       "      <td>7.000000</td>\n",
       "      <td>4.000000</td>\n",
       "      <td>3.000000</td>\n",
       "      <td>3.000000</td>\n",
       "      <td>3.000000</td>\n",
       "      <td>3.000000</td>\n",
       "      <td>3.000000</td>\n",
       "      <td>20.000000</td>\n",
       "      <td>3000.000000</td>\n",
       "      <td>41415.000000</td>\n",
       "      <td>8.000000</td>\n",
       "      <td>30.000000</td>\n",
       "      <td>4.000000</td>\n",
       "    </tr>\n",
       "  </tbody>\n",
       "</table>\n",
       "</div>"
      ],
      "text/plain": [
       "               Type           Age        Breed1        Breed2        Gender  \\\n",
       "count  14993.000000  14993.000000  14993.000000  14993.000000  14993.000000   \n",
       "mean       1.457614     10.452078    265.272594     74.009738      1.776162   \n",
       "std        0.498217     18.155790     60.056818    123.011575      0.681592   \n",
       "min        1.000000      0.000000      0.000000      0.000000      1.000000   \n",
       "25%        1.000000      2.000000    265.000000      0.000000      1.000000   \n",
       "50%        1.000000      3.000000    266.000000      0.000000      2.000000   \n",
       "75%        2.000000     12.000000    307.000000    179.000000      2.000000   \n",
       "max        2.000000    255.000000    307.000000    307.000000      3.000000   \n",
       "\n",
       "             Color1        Color2        Color3  MaturitySize     FurLength  \\\n",
       "count  14993.000000  14993.000000  14993.000000  14993.000000  14993.000000   \n",
       "mean       2.234176      3.222837      1.882012      1.862002      1.467485   \n",
       "std        1.745225      2.742562      2.984086      0.547959      0.599070   \n",
       "min        1.000000      0.000000      0.000000      1.000000      1.000000   \n",
       "25%        1.000000      0.000000      0.000000      2.000000      1.000000   \n",
       "50%        2.000000      2.000000      0.000000      2.000000      1.000000   \n",
       "75%        3.000000      6.000000      5.000000      2.000000      2.000000   \n",
       "max        7.000000      7.000000      7.000000      4.000000      3.000000   \n",
       "\n",
       "         Vaccinated      Dewormed    Sterilized        Health      Quantity  \\\n",
       "count  14993.000000  14993.000000  14993.000000  14993.000000  14993.000000   \n",
       "mean       1.731208      1.558727      1.914227      1.036617      1.576069   \n",
       "std        0.667649      0.695817      0.566172      0.199535      1.472477   \n",
       "min        1.000000      1.000000      1.000000      1.000000      1.000000   \n",
       "25%        1.000000      1.000000      2.000000      1.000000      1.000000   \n",
       "50%        2.000000      1.000000      2.000000      1.000000      1.000000   \n",
       "75%        2.000000      2.000000      2.000000      1.000000      1.000000   \n",
       "max        3.000000      3.000000      3.000000      3.000000     20.000000   \n",
       "\n",
       "                Fee         State      VideoAmt      PhotoAmt  AdoptionSpeed  \n",
       "count  14993.000000  14993.000000  14993.000000  14993.000000   14993.000000  \n",
       "mean      21.259988  41346.028347      0.056760      3.889215       2.516441  \n",
       "std       78.414548     32.444153      0.346185      3.487810       1.177265  \n",
       "min        0.000000  41324.000000      0.000000      0.000000       0.000000  \n",
       "25%        0.000000  41326.000000      0.000000      2.000000       2.000000  \n",
       "50%        0.000000  41326.000000      0.000000      3.000000       2.000000  \n",
       "75%        0.000000  41401.000000      0.000000      5.000000       4.000000  \n",
       "max     3000.000000  41415.000000      8.000000     30.000000       4.000000  "
      ]
     },
     "execution_count": 5,
     "metadata": {},
     "output_type": "execute_result"
    }
   ],
   "source": [
    "train.describe()\n"
   ]
  },
  {
   "cell_type": "code",
   "execution_count": 6,
   "metadata": {
    "scrolled": false
   },
   "outputs": [
    {
     "data": {
      "image/png": "[encoded data removed]",
      "text/plain": [
       "<matplotlib.figure.Figure at 0x1bde8f092b0>"
      ]
     },
     "metadata": {},
     "output_type": "display_data"
    }
   ],
   "source": [
    "%matplotlib inline \n",
    "\n",
    "train.hist(bins=50, figsize=(20,15))\n",
    "plt.show()"
   ]
  },
  {
   "cell_type": "code",
   "execution_count": 6,
   "metadata": {},
   "outputs": [],
   "source": [
    "# Creating a copy of data for visualization\n",
    "train_copy = train.copy()"
   ]
  },
  {
   "cell_type": "code",
   "execution_count": 7,
   "metadata": {},
   "outputs": [
    {
     "name": "stdout",
     "output_type": "stream",
     "text": [
      "    StateID        StateName\n",
      "0     41336            Johor\n",
      "1     41325            Kedah\n",
      "2     41367         Kelantan\n",
      "3     41401     Kuala Lumpur\n",
      "4     41415           Labuan\n",
      "5     41324           Melaka\n",
      "6     41332  Negeri Sembilan\n",
      "7     41335           Pahang\n",
      "8     41330            Perak\n",
      "9     41380           Perlis\n",
      "10    41327     Pulau Pinang\n",
      "11    41345            Sabah\n",
      "12    41342          Sarawak\n",
      "13    41326         Selangor\n",
      "14    41361       Terengganu\n"
     ]
    },
    {
     "data": {
      "text/plain": [
       "<matplotlib.legend.Legend at 0x1db13a4ddd8>"
      ]
     },
     "execution_count": 7,
     "metadata": {},
     "output_type": "execute_result"
    },
    {
     "data": {
      "image/png": "[encoded data removed]",
      "text/plain": [
       "<matplotlib.figure.Figure at 0x1db13633a90>"
      ]
     },
     "metadata": {},
     "output_type": "display_data"
    }
   ],
   "source": [
    "# Data density For each State vs Breed1 \n",
    "# Area of each point is proportional to Fee\n",
    "# Color of each point is representative of adoptibility\n",
    "\n",
    "plt.rcParams['figure.figsize'] = (10,6)\n",
    "\n",
    "state_dict = dict(zip(state_labels[\"StateID\"], state_labels[\"StateName\"]))\n",
    "\n",
    "x_axis = [state_dict[i] for i in train_copy[\"State\"]]\n",
    "x_axis = pd.DataFrame(x_axis)\n",
    "\n",
    "train_copy[\"StateName\"] = x_axis\n",
    "print(state_labels)\n",
    "sc = plt.scatter(train_copy[\"State\"], train_copy[\"Breed1\"], alpha=0.5, \n",
    "            s=train_copy[\"Fee\"]/5, label=\"Fee\", c=train_copy[\"AdoptionSpeed\"],\n",
    "            cmap=plt.get_cmap(\"jet\"))\n",
    "plt.colorbar(sc)\n",
    "plt.xlabel(\"State ID\")\n",
    "plt.ylabel(\"Breed1 ID\")\n",
    "plt.legend()"
   ]
  },
  {
   "cell_type": "markdown",
   "metadata": {},
   "source": [
    "## Correlation Between Different Attributes"
   ]
  },
  {
   "cell_type": "code",
   "execution_count": 8,
   "metadata": {},
   "outputs": [],
   "source": [
    "corr_matrix = train_copy.corr()"
   ]
  },
  {
   "cell_type": "code",
   "execution_count": 9,
   "metadata": {},
   "outputs": [
    {
     "data": {
      "text/plain": [
       "Type            -0.091240\n",
       "Age              0.100510\n",
       "Breed1           0.107834\n",
       "Breed2          -0.018642\n",
       "Gender           0.057622\n",
       "Color1          -0.044192\n",
       "Color2          -0.038579\n",
       "Color3          -0.007014\n",
       "MaturitySize     0.045653\n",
       "FurLength       -0.091337\n",
       "Vaccinated      -0.059043\n",
       "Dewormed        -0.013210\n",
       "Sterilized      -0.083447\n",
       "Health           0.029382\n",
       "Quantity         0.062931\n",
       "Fee             -0.004017\n",
       "State            0.013119\n",
       "VideoAmt        -0.000571\n",
       "PhotoAmt        -0.023233\n",
       "AdoptionSpeed    1.000000\n",
       "Name: AdoptionSpeed, dtype: float64"
      ]
     },
     "execution_count": 9,
     "metadata": {},
     "output_type": "execute_result"
    }
   ],
   "source": [
    "corr_matrix[\"AdoptionSpeed\"]"
   ]
  },
  {
   "cell_type": "code",
   "execution_count": 10,
   "metadata": {},
   "outputs": [
    {
     "name": "stdout",
     "output_type": "stream",
     "text": [
      "   ColorID ColorName\n",
      "0        1     Black\n",
      "1        2     Brown\n",
      "2        3    Golden\n",
      "3        4    Yellow\n",
      "4        5     Cream\n",
      "5        6      Gray\n",
      "6        7     White\n"
     ]
    }
   ],
   "source": [
    "print(color_labels)"
   ]
  },
  {
   "cell_type": "markdown",
   "metadata": {},
   "source": [
    "# Breed-ID Analysis"
   ]
  },
  {
   "cell_type": "code",
   "execution_count": 11,
   "metadata": {},
   "outputs": [
    {
     "name": "stdout",
     "output_type": "stream",
     "text": [
      "Selangor 0.819\n",
      "Kuala Lumpur 0.822\n",
      "Pulau Pinang 0.803\n",
      "Johor 0.785\n",
      "Perak 0.778\n",
      "Negeri Sembilan 0.789\n",
      "Melaka 0.794\n",
      "Kedah 0.769\n",
      "Pahang 0.766\n",
      "Terengganu 0.762\n",
      "Sabah 0.674\n",
      "Kelantan 0.741\n",
      "Sarawak 0.707\n",
      "Labuan 0.742\n"
     ]
    }
   ],
   "source": [
    "\n",
    "# Correlating top states with HDI \n",
    "state_labels['HDI'] = [0.785, 0.769, 0.741, 0.822, \n",
    "                       0.742, 0.794, 0.789, 0.766, \n",
    "                       0.778, 0.767, 0.803, 0.674, \n",
    "                       .707, 0.819, 0.762]\n",
    "\n",
    "# Idenify Top States\n",
    "top_states = train_copy['State'].value_counts()\n",
    "x = []\n",
    "y = []\n",
    "bar_color = []\n",
    "for state in top_states.index:\n",
    "    x.append(state_dict[state])\n",
    "    y.append(top_states[state])\n",
    "    bar_color.append(state_labels.loc[state_labels['StateID'] == state]['HDI'].values[0])\n",
    "    print(state_dict[state], state_labels.loc[state_labels['StateID'] == state]['HDI'].values[0])"
   ]
  },
  {
   "cell_type": "code",
   "execution_count": 12,
   "metadata": {
    "scrolled": false
   },
   "outputs": [
    {
     "name": "stdout",
     "output_type": "stream",
     "text": [
      "    StateID        StateName    HDI\n",
      "0     41336            Johor  0.785\n",
      "1     41325            Kedah  0.769\n",
      "2     41367         Kelantan  0.741\n",
      "3     41401     Kuala Lumpur  0.822\n",
      "4     41415           Labuan  0.742\n",
      "5     41324           Melaka  0.794\n",
      "6     41332  Negeri Sembilan  0.789\n",
      "7     41335           Pahang  0.766\n",
      "8     41330            Perak  0.778\n",
      "9     41380           Perlis  0.767\n",
      "10    41327     Pulau Pinang  0.803\n",
      "11    41345            Sabah  0.674\n",
      "12    41342          Sarawak  0.707\n",
      "13    41326         Selangor  0.819\n",
      "14    41361       Terengganu  0.762\n",
      "41326    8714\n",
      "41401    3845\n",
      "41327     843\n",
      "41336     507\n",
      "41330     420\n",
      "41332     253\n",
      "41324     137\n",
      "41325     110\n",
      "41335      85\n",
      "41361      26\n",
      "41345      22\n",
      "41367      15\n",
      "41342      13\n",
      "41415       3\n",
      "Name: State, dtype: int64\n",
      "0.539193190475\n"
     ]
    },
    {
     "data": {
      "image/png": "[encoded data removed]",
      "text/plain": [
       "<matplotlib.figure.Figure at 0x1db1389c048>"
      ]
     },
     "metadata": {},
     "output_type": "display_data"
    }
   ],
   "source": [
    "import seaborn as sns\n",
    "print(state_labels)\n",
    "print(top_states)\n",
    "sns.set(font_scale=1.2)\n",
    "\n",
    "my_plot = sns.barplot(x, y, color = 'b')\n",
    "for item in my_plot.get_xticklabels():\n",
    "    item.set_rotation(50)\n",
    "    \n",
    "plt.xlabel(\"States\")\n",
    "plt.ylabel(\"Count\")\n",
    "plt.title(\"States vs Number of Data Points\")\n",
    "# Correlation between count and HDI\n",
    "print(np.corrcoef(y, bar_color)[0,1])"
   ]
  },
  {
   "cell_type": "code",
   "execution_count": 13,
   "metadata": {},
   "outputs": [],
   "source": [
    "# Combine \n",
    "    # Johor 0.785\n",
    "    # Perak 0.778\n",
    "    # Negeri Sembilan 0.789\n",
    "    # Melaka 0.794 as one state\n",
    "\n",
    "train_copy = train_copy.replace(to_replace = [41336, 41330, 41332], value = 0)"
   ]
  },
  {
   "cell_type": "markdown",
   "metadata": {},
   "source": [
    "### Tasks\n",
    "- Split cat and dog\n",
    "- State-by-State analysis\n",
    "- Combining states based on location/size (DONE)\n",
    "- At most 4-5 states (DONE)\n",
    "- Average adoption speed (DONE)\n",
    "- Pure breed vs Mixed breed\n",
    "- Average adoption speeds for top 10 purebreds (don’t by state)\n"
   ]
  },
  {
   "cell_type": "markdown",
   "metadata": {},
   "source": [
    "## Average Adoption Speed per State"
   ]
  },
  {
   "cell_type": "code",
   "execution_count": 14,
   "metadata": {
    "scrolled": false
   },
   "outputs": [
    {
     "name": "stdout",
     "output_type": "stream",
     "text": [
      "[2.4520312141381684, 2.5401820546163849, 2.7817319098457887, 2.6499999999999999]\n"
     ]
    },
    {
     "data": {
      "image/png": "[encoded data removed]",
      "text/plain": [
       "<matplotlib.figure.Figure at 0x1db1391f0f0>"
      ]
     },
     "metadata": {},
     "output_type": "display_data"
    }
   ],
   "source": [
    "top_state_ID = [41326, 41401, 41327, 0]\n",
    "top_states_name = ['Selangor', 'Kuala Lumpur', 'Pulau Pinang', 'Combined_state']\n",
    "average_adoption_speed = []\n",
    "\n",
    "train_copy= train_copy.drop(train_copy[(train_copy['State'] != 41326) & (train_copy['State'] != 41401)\n",
    "                          & (train_copy['State'] != 41327)& (train_copy['State'] != 0)].index)\n",
    "\n",
    "sns.boxplot(x = train_copy['State'], y=train_copy[\"AdoptionSpeed\"], showmeans=True , color = 'b')\n",
    "\n",
    "for i in range(len(top_state_ID)):\n",
    "    average_adoption_speed.append(train_copy.loc[train_copy['State'] == top_state_ID[i]]['AdoptionSpeed'].mean(0))\n",
    "\n",
    "\n",
    "print(average_adoption_speed)\n"
   ]
  },
  {
   "cell_type": "markdown",
   "metadata": {},
   "source": [
    "## Recommender System"
   ]
  },
  {
   "cell_type": "code",
   "execution_count": 69,
   "metadata": {
    "scrolled": true
   },
   "outputs": [
    {
     "name": "stdout",
     "output_type": "stream",
     "text": [
      "Enter State: kaual Lum\n",
      "Type of Pet: dog\n",
      "Breed: Mixed\n"
     ]
    },
    {
     "data": {
      "text/html": [
       "<div>\n",
       "<style scoped>\n",
       "    .dataframe tbody tr th:only-of-type {\n",
       "        vertical-align: middle;\n",
       "    }\n",
       "\n",
       "    .dataframe tbody tr th {\n",
       "        vertical-align: top;\n",
       "    }\n",
       "\n",
       "    .dataframe thead th {\n",
       "        text-align: right;\n",
       "    }\n",
       "</style>\n",
       "<table border=\"1\" class=\"dataframe\">\n",
       "  <thead>\n",
       "    <tr style=\"text-align: right;\">\n",
       "      <th></th>\n",
       "      <th>Type</th>\n",
       "      <th>Name</th>\n",
       "      <th>Age</th>\n",
       "      <th>Gender</th>\n",
       "      <th>FurLength</th>\n",
       "      <th>Vaccinated</th>\n",
       "      <th>Dewormed</th>\n",
       "      <th>Sterilized</th>\n",
       "      <th>Quantity</th>\n",
       "      <th>Fee</th>\n",
       "      <th>Description</th>\n",
       "      <th>PetID</th>\n",
       "      <th>StateName</th>\n",
       "    </tr>\n",
       "  </thead>\n",
       "  <tbody>\n",
       "    <tr>\n",
       "      <th>1519</th>\n",
       "      <td>1</td>\n",
       "      <td>Sweety</td>\n",
       "      <td>12</td>\n",
       "      <td>2</td>\n",
       "      <td>2</td>\n",
       "      <td>Yes</td>\n",
       "      <td>Yes</td>\n",
       "      <td>Yes</td>\n",
       "      <td>1</td>\n",
       "      <td>0</td>\n",
       "      <td>Clever, lively</td>\n",
       "      <td>86c412966</td>\n",
       "      <td>Kuala Lumpur</td>\n",
       "    </tr>\n",
       "    <tr>\n",
       "      <th>7109</th>\n",
       "      <td>1</td>\n",
       "      <td>Kiki</td>\n",
       "      <td>13</td>\n",
       "      <td>2</td>\n",
       "      <td>1</td>\n",
       "      <td>Yes</td>\n",
       "      <td>Yes</td>\n",
       "      <td>Yes</td>\n",
       "      <td>1</td>\n",
       "      <td>0</td>\n",
       "      <td>Kiki is a good dog. She help you to take care ...</td>\n",
       "      <td>640683dd9</td>\n",
       "      <td>Kuala Lumpur</td>\n",
       "    </tr>\n",
       "    <tr>\n",
       "      <th>2725</th>\n",
       "      <td>1</td>\n",
       "      <td>K-1  Jorge</td>\n",
       "      <td>36</td>\n",
       "      <td>1</td>\n",
       "      <td>2</td>\n",
       "      <td>Yes</td>\n",
       "      <td>Yes</td>\n",
       "      <td>Yes</td>\n",
       "      <td>1</td>\n",
       "      <td>0</td>\n",
       "      <td>Jorge is a stout, strong dog yet soft enough o...</td>\n",
       "      <td>77f9b1470</td>\n",
       "      <td>Kuala Lumpur</td>\n",
       "    </tr>\n",
       "    <tr>\n",
       "      <th>4699</th>\n",
       "      <td>1</td>\n",
       "      <td>Save ME Or I'll Die #45</td>\n",
       "      <td>2</td>\n",
       "      <td>3</td>\n",
       "      <td>1</td>\n",
       "      <td>Not Sure</td>\n",
       "      <td>Not Sure</td>\n",
       "      <td>Not Sure</td>\n",
       "      <td>2</td>\n",
       "      <td>0</td>\n",
       "      <td>PLEASE RESCUE/ADOPT ME FROM KLANG POUND OR I W...</td>\n",
       "      <td>ce19e69ff</td>\n",
       "      <td>Kuala Lumpur</td>\n",
       "    </tr>\n",
       "    <tr>\n",
       "      <th>11900</th>\n",
       "      <td>1</td>\n",
       "      <td>Big Foot</td>\n",
       "      <td>2</td>\n",
       "      <td>1</td>\n",
       "      <td>1</td>\n",
       "      <td>No</td>\n",
       "      <td>No</td>\n",
       "      <td>No</td>\n",
       "      <td>1</td>\n",
       "      <td>0</td>\n",
       "      <td>Big Foot was rescued together two other siblin...</td>\n",
       "      <td>b02f2fafa</td>\n",
       "      <td>Kuala Lumpur</td>\n",
       "    </tr>\n",
       "  </tbody>\n",
       "</table>\n",
       "</div>"
      ],
      "text/plain": [
       "       Type                     Name  Age  Gender  FurLength Vaccinated  \\\n",
       "1519      1                   Sweety   12       2          2        Yes   \n",
       "7109      1                     Kiki   13       2          1        Yes   \n",
       "2725      1               K-1  Jorge   36       1          2        Yes   \n",
       "4699      1  Save ME Or I'll Die #45    2       3          1   Not Sure   \n",
       "11900     1                 Big Foot    2       1          1         No   \n",
       "\n",
       "       Dewormed Sterilized  Quantity  Fee  \\\n",
       "1519        Yes        Yes         1    0   \n",
       "7109        Yes        Yes         1    0   \n",
       "2725        Yes        Yes         1    0   \n",
       "4699   Not Sure   Not Sure         2    0   \n",
       "11900        No         No         1    0   \n",
       "\n",
       "                                             Description      PetID  \\\n",
       "1519                                      Clever, lively  86c412966   \n",
       "7109   Kiki is a good dog. She help you to take care ...  640683dd9   \n",
       "2725   Jorge is a stout, strong dog yet soft enough o...  77f9b1470   \n",
       "4699   PLEASE RESCUE/ADOPT ME FROM KLANG POUND OR I W...  ce19e69ff   \n",
       "11900  Big Foot was rescued together two other siblin...  b02f2fafa   \n",
       "\n",
       "          StateName  \n",
       "1519   Kuala Lumpur  \n",
       "7109   Kuala Lumpur  \n",
       "2725   Kuala Lumpur  \n",
       "4699   Kuala Lumpur  \n",
       "11900  Kuala Lumpur  "
      ]
     },
     "execution_count": 69,
     "metadata": {},
     "output_type": "execute_result"
    }
   ],
   "source": [
    "breed_dict = dict(zip(breed_labels['BreedName'].values, breed_labels['BreedID'].values))\n",
    "import difflib\n",
    "\n",
    "def recommender_system():\n",
    "    \n",
    "    state = input(\"Enter State: \")\n",
    "    pet_type = input(\"Type of Pet: \")\n",
    "    pet_breed = input(\"Breed: \")\n",
    "    \n",
    "    inv_state_dict = {v: k for k, v in state_dict.items()}\n",
    "    \n",
    "    state = difflib.get_close_matches(state, inv_state_dict.keys(), n=1, cutoff=0)[0]\n",
    "\n",
    "    if state not in inv_state_dict:\n",
    "        print(\"Enter a valid State, Thank you!\")\n",
    "        return \n",
    "    else:\n",
    "        stateID = inv_state_dict[state]\n",
    "        \n",
    "    if pet_type.lower() =='dog':\n",
    "        pet_type = 1\n",
    "    elif pet_type.lower() =='cat':\n",
    "        pet_type = 2\n",
    "    else:\n",
    "        print(\"Enter a valid Pet Type, we only have cats and dogs, Thank you!\")\n",
    "    \n",
    "    pet_breed = difflib.get_close_matches(pet_breed, breed_dict.keys(), n=1, cutoff=0)[0]\n",
    "    \n",
    "    if pet_breed not in breed_dict:\n",
    "        print(\"Enter a valid breed, Thank you\")\n",
    "        return\n",
    "    else:\n",
    "        pet_breed = breed_dict[pet_breed]\n",
    "    \n",
    "    pet_data = train_copy[(train_copy['State'] == stateID) & (train_copy['Breed1'] == pet_breed) & (train_copy['Type'] == pet_type)]\n",
    "    pet_data = pet_data.sort_values(by=['AdoptionSpeed'])\n",
    "    \n",
    "    pet_data = pet_data.drop(['State', 'Color1', 'Color2', 'Color3', 'Breed1', 'Breed2', \n",
    "                              'RescuerID', 'PhotoAmt', 'VideoAmt', 'AdoptionSpeed',\n",
    "                             'MaturitySize', 'Health'], axis =1)\n",
    "    \n",
    "    pet_data['Vaccinated'] = pet_data['Vaccinated'].map({1:'Yes', 2:'No', 3:'Not Sure'})\n",
    "    pet_data['Dewormed'] = pet_data['Dewormed'].map({1:'Yes', 2:'No', 3:'Not Sure'})\n",
    "    pet_data['Sterilized'] = pet_data['Sterilized'].map({1:'Yes', 2:'No', 3:'Not Sure'})\n",
    "\n",
    "    \n",
    "    return pet_data.head()\n",
    "    \n",
    "        \n",
    "recommender_system()\n"
   ]
  },
  {
   "cell_type": "markdown",
   "metadata": {},
   "source": [
    "## Baseline Model"
   ]
  },
  {
   "cell_type": "code",
   "execution_count": 893,
   "metadata": {},
   "outputs": [],
   "source": [
    "data = train_copy\n",
    "\n",
    "# Name vs No-name\n",
    "\n",
    "#data['Name'][pd.notna(data['Name'])]= 1\n",
    "#data['Name'][pd.isna(data['Name'])] = 0\n",
    "\n",
    "# Drop Some Features\n",
    "#data = data.drop([\"RescuerID\", \"Description\", \"PetID\", \"Color3\", \"StateName\" ,\"Gender\", \"VideoAmt\",\n",
    "#                  \"Health\", \"Name\", \"Type\", \"Vaccinated\", \"Dewormed\", \"Sterilized\", \"FurLength\"], axis= 1)\n",
    "\n",
    "data = data.drop([\"RescuerID\", \"Description\", \"PetID\", \"Color3\", \"StateName\" , \"VideoAmt\",\n",
    "                  \"Health\", \"Name\", \"Type\", 'Breed2', 'Color1', 'Color2', 'MaturitySize',\n",
    "                  'FurLength', 'Dewormed', 'Fee'\n",
    "                  ], axis= 1)\n",
    "\n",
    "# Replace State by HDI\n",
    "HDI = [0.819, 0.822, 0.803, (0.785+0.778+0.789+0.794)/4]\n",
    "#my_dict = dict(zip(top_state_ID,HDI))\n",
    "\n",
    "#data['Sate_HDI'] = data['State'].map(dict(zip(top_state_ID,HDI))) \n",
    "data = data.drop(\"State\", axis =1)\n",
    "\n",
    "# Pure-breed vs Mix-Breed\n",
    "\n",
    "#data['Breed1'][data['Breed2'] == 0] = 1\n",
    "#data['Breed1'][data['Breed2'] != 0] = 0\n",
    "#data = data.drop(\"Breed2\", axis =1)\n",
    "\n",
    "# Health related features\n",
    "\n",
    "#data['Vaccinated'] = data['Vaccinated'].map({1:1, 2:-1, 3:0})\n",
    "#data['Dewormed'] = data['Dewormed'].map({1:1, 2:-1, 3:0})\n",
    "#data['Sterilized'] = data['Sterilized'].map({1:1, 2:-1, 3:0})\n",
    "#data['Health'] = data['Health'].map({1:1, 2:-1, 3:-2, 0:0})\n",
    "\n",
    "#data['AdoptionSpeed'][data['AdoptionSpeed'] == 0] = 1\n"
   ]
  },
  {
   "cell_type": "code",
   "execution_count": 894,
   "metadata": {},
   "outputs": [
    {
     "name": "stdout",
     "output_type": "stream",
     "text": [
      "10208 train + 4374 test\n"
     ]
    }
   ],
   "source": [
    "# Create a test set\n",
    "\n",
    "def split_train_test(data, test_ratio):\n",
    "    shuffled_indices = np.random.permutation(len(data))\n",
    "    test_set_size = int(len(data) * test_ratio)\n",
    "    test_indices = shuffled_indices[:test_set_size]\n",
    "    train_indices = shuffled_indices[test_set_size:]\n",
    "    return data.iloc[train_indices], data.iloc[test_indices]\n",
    "\n",
    "train_set, test_set = split_train_test(data, 0.3)\n",
    "print(len(train_set), \"train +\", len(test_set), \"test\")\n",
    "\n",
    "# Split into data and labels\n",
    "train_data = train_set.drop(\"AdoptionSpeed\", axis=1)\n",
    "train_data =  train_data.reset_index()\n",
    "train_data = train_data.drop(\"index\", axis = 1)\n",
    "\n",
    "train_labels = train_set[\"AdoptionSpeed\"].copy()\n",
    "#train_labels = pd.Categorical(train_labels)\n",
    "#train_labels =  pd.get_dummies(train_labels, prefix = 'category')\n",
    "\n",
    "test_data = test_set.drop(\"AdoptionSpeed\", axis=1)\n",
    "test_data =  test_data.reset_index()\n",
    "test_data = test_data.drop(\"index\", axis = 1)\n",
    "\n",
    "test_labels = test_set[\"AdoptionSpeed\"].copy()\n",
    "#test_labels = pd.Categorical(test_labels)\n",
    "#test_labels =  pd.get_dummies(test_labels, prefix = 'category')\n"
   ]
  },
  {
   "cell_type": "code",
   "execution_count": 857,
   "metadata": {},
   "outputs": [],
   "source": [
    "# Normalization \n",
    "from sklearn import preprocessing\n",
    "\n",
    "x = train_data.values #returns a numpy array\n",
    "min_max_scaler = preprocessing.MinMaxScaler()\n",
    "x_scaled = min_max_scaler.fit_transform(x)\n",
    "train_data = pd.DataFrame(x_scaled)\n",
    "\n",
    "x = test_data.values #returns a numpy array\n",
    "min_max_scaler = preprocessing.MinMaxScaler()\n",
    "x_scaled = min_max_scaler.fit_transform(x)\n",
    "test_data = pd.DataFrame(x_scaled)"
   ]
  },
  {
   "cell_type": "code",
   "execution_count": 895,
   "metadata": {},
   "outputs": [
    {
     "name": "stdout",
     "output_type": "stream",
     "text": [
      "   Age  Breed1  Gender  Vaccinated  Sterilized  Quantity  PhotoAmt\n",
      "0    2     265       2           1           2         1       7.0\n",
      "1   12      75       2           3           3         1       5.0\n",
      "2    4     307       1           3           2         1       1.0\n",
      "3    2     299       3           2           2         5       5.0\n",
      "4    1     307       1           2           2         1       4.0\n",
      "   Age  Breed1  Gender  Vaccinated  Sterilized  Quantity  PhotoAmt\n",
      "0    3     307       1           1           3         1       3.0\n",
      "1   12     266       2           1           2         1       3.0\n",
      "2    1     307       1           2           2         1       1.0\n",
      "3    3     266       1           3           3         1       0.0\n",
      "4    2     266       2           3           2         1       3.0\n"
     ]
    }
   ],
   "source": [
    "print(train_data.head())\n",
    "print(test_data.head())"
   ]
  },
  {
   "cell_type": "code",
   "execution_count": 896,
   "metadata": {},
   "outputs": [
    {
     "data": {
      "text/plain": [
       "DecisionTreeClassifier(class_weight=None, criterion='gini', max_depth=7,\n",
       "            max_features=None, max_leaf_nodes=None,\n",
       "            min_impurity_decrease=0.0, min_impurity_split=None,\n",
       "            min_samples_leaf=1, min_samples_split=2,\n",
       "            min_weight_fraction_leaf=0.0, presort=False, random_state=None,\n",
       "            splitter='best')"
      ]
     },
     "execution_count": 896,
     "metadata": {},
     "output_type": "execute_result"
    }
   ],
   "source": [
    "# Model\n",
    "from sklearn.tree import DecisionTreeClassifier\n",
    "tree_clf = DecisionTreeClassifier(criterion = \"gini\",\n",
    "                               max_depth=7)\n",
    "\n",
    "tree_clf.fit(train_data, train_labels)\n"
   ]
  },
  {
   "cell_type": "code",
   "execution_count": 897,
   "metadata": {},
   "outputs": [
    {
     "data": {
      "text/plain": [
       "0.40869905956112851"
      ]
     },
     "execution_count": 897,
     "metadata": {},
     "output_type": "execute_result"
    }
   ],
   "source": [
    "# Training accuracy\n",
    "y_predict = tree_clf.predict(train_data)\n",
    "from sklearn.metrics import accuracy_score\n",
    "\n",
    "accuracy_score(train_labels, y_predict)"
   ]
  },
  {
   "cell_type": "code",
   "execution_count": 898,
   "metadata": {},
   "outputs": [
    {
     "data": {
      "text/plain": [
       "0.38385916780978507"
      ]
     },
     "execution_count": 898,
     "metadata": {},
     "output_type": "execute_result"
    }
   ],
   "source": [
    "# Test accuracy\n",
    "y_predict = tree_clf.predict(test_data)\n",
    "\n",
    "accuracy_score(test_labels, y_predict)\n"
   ]
  },
  {
   "cell_type": "markdown",
   "metadata": {},
   "source": [
    "### Conclusion:\n",
    "- Severe Case of Overfitting"
   ]
  },
  {
   "cell_type": "code",
   "execution_count": 944,
   "metadata": {},
   "outputs": [
    {
     "data": {
      "text/plain": [
       "RandomForestClassifier(bootstrap=True, class_weight=None, criterion='gini',\n",
       "            max_depth=10, max_features='auto', max_leaf_nodes=None,\n",
       "            min_impurity_decrease=0.0, min_impurity_split=None,\n",
       "            min_samples_leaf=1, min_samples_split=2,\n",
       "            min_weight_fraction_leaf=0.0, n_estimators=100, n_jobs=1,\n",
       "            oob_score=False, random_state=None, verbose=0,\n",
       "            warm_start=False)"
      ]
     },
     "execution_count": 944,
     "metadata": {},
     "output_type": "execute_result"
    }
   ],
   "source": [
    "# Random Forest CLassifier\n",
    "\n",
    "from sklearn.ensemble import RandomForestClassifier\n",
    "\n",
    "\n",
    "forest_clf = RandomForestClassifier(n_estimators=100, max_depth = 10, criterion = 'gini')\n",
    "forest_clf.fit(train_data, train_labels)\n"
   ]
  },
  {
   "cell_type": "code",
   "execution_count": 945,
   "metadata": {},
   "outputs": [
    {
     "data": {
      "text/plain": [
       "0.5380094043887147"
      ]
     },
     "execution_count": 945,
     "metadata": {},
     "output_type": "execute_result"
    }
   ],
   "source": [
    "# Train accuracy\n",
    "y_predict = forest_clf.predict(train_data)\n",
    "accuracy_score(train_labels, y_predict)"
   ]
  },
  {
   "cell_type": "code",
   "execution_count": 946,
   "metadata": {},
   "outputs": [
    {
     "data": {
      "text/plain": [
       "0.39803383630544126"
      ]
     },
     "execution_count": 946,
     "metadata": {},
     "output_type": "execute_result"
    }
   ],
   "source": [
    "# Test accuracy\n",
    "y_predict = forest_clf.predict(test_data)\n",
    "\n",
    "accuracy_score(test_labels, y_predict)"
   ]
  },
  {
   "cell_type": "code",
   "execution_count": 649,
   "metadata": {},
   "outputs": [
    {
     "data": {
      "text/plain": [
       "MLPClassifier(activation='relu', alpha=0.0001, batch_size='auto', beta_1=0.9,\n",
       "       beta_2=0.999, early_stopping=False, epsilon=1e-08,\n",
       "       hidden_layer_sizes=(25, 25), learning_rate='adaptive',\n",
       "       learning_rate_init=0.001, max_iter=500, momentum=0.9,\n",
       "       nesterovs_momentum=True, power_t=0.5, random_state=None,\n",
       "       shuffle=True, solver='adam', tol=0.0001, validation_fraction=0.1,\n",
       "       verbose=False, warm_start=False)"
      ]
     },
     "execution_count": 649,
     "metadata": {},
     "output_type": "execute_result"
    }
   ],
   "source": [
    "## Neural Network\n",
    "\n",
    "from sklearn.neural_network import MLPClassifier\n",
    "\n",
    "clf = MLPClassifier(solver='adam', activation='relu',\n",
    "                     hidden_layer_sizes=(25, 25), max_iter = 500, learning_rate = 'adaptive')\n",
    "\n",
    "\n",
    "clf.fit(train_data, train_labels) "
   ]
  },
  {
   "cell_type": "code",
   "execution_count": 650,
   "metadata": {},
   "outputs": [
    {
     "data": {
      "text/plain": [
       "0.32667581004628837"
      ]
     },
     "execution_count": 650,
     "metadata": {},
     "output_type": "execute_result"
    }
   ],
   "source": [
    "# Train accuracy\n",
    "y_predict = clf.predict(train_data)\n",
    "accuracy_score(train_labels, y_predict)"
   ]
  },
  {
   "cell_type": "code",
   "execution_count": 344,
   "metadata": {},
   "outputs": [
    {
     "data": {
      "text/plain": [
       "0.3723769030311343"
      ]
     },
     "execution_count": 344,
     "metadata": {},
     "output_type": "execute_result"
    }
   ],
   "source": [
    "# Test accuracy\n",
    "y_predict = clf.predict(test_data)\n",
    "accuracy_score(test_labels, y_predict)"
   ]
  }
 ],
 "metadata": {
  "kernelspec": {
   "display_name": "Python 3",
   "language": "python",
   "name": "python3"
  },
  "language_info": {
   "codemirror_mode": {
    "name": "ipython",
    "version": 3
   },
   "file_extension": ".py",
   "mimetype": "text/x-python",
   "name": "python",
   "nbconvert_exporter": "python",
   "pygments_lexer": "ipython3",
   "version": "3.6.3"
  }
 },
 "nbformat": 4,
 "nbformat_minor": 2
}
